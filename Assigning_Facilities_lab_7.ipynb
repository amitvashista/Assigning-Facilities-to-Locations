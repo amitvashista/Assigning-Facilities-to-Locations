{
 "cells": [
  {
   "cell_type": "code",
   "execution_count": null,
   "metadata": {
    "id": "HjVKnok9lNeC"
   },
   "outputs": [],
   "source": []
  },
  {
   "cell_type": "code",
   "execution_count": null,
   "metadata": {
    "colab": {
     "base_uri": "https://localhost:8080/"
    },
    "id": "E6VwDP2RpVyd",
    "outputId": "8ce79ccb-d95f-4456-d1a9-c54d436e129e"
   },
   "outputs": [
    {
     "name": "stdout",
     "output_type": "stream",
     "text": [
      "\u001b[K     |████████████████████████████████| 9.7 MB 5.2 MB/s \n",
      "\u001b[K     |████████████████████████████████| 49 kB 4.7 MB/s \n",
      "\u001b[?25h"
     ]
    }
   ],
   "source": [
    "!pip install -q pyomo"
   ]
  },
  {
   "cell_type": "code",
   "execution_count": null,
   "metadata": {
    "id": "1r_yYUofSTFB"
   },
   "outputs": [],
   "source": [
    "from pyomo.environ import * "
   ]
  },
  {
   "cell_type": "code",
   "execution_count": null,
   "metadata": {
    "id": "4oqebwZkbP2g"
   },
   "outputs": [],
   "source": [
    "import pandas as pd"
   ]
  },
  {
   "cell_type": "code",
   "execution_count": null,
   "metadata": {
    "id": "4xu-ZbGQ61f4"
   },
   "outputs": [],
   "source": [
    "import numpy as np"
   ]
  },
  {
   "cell_type": "markdown",
   "metadata": {
    "id": "TcJadsKYX9W3"
   },
   "source": [
    "**1. [R] Write a mathematical model to solve the assignment problem explained above. Define all\n",
    "the variables and constraints clearly. Use appropriate notations and define appropriate sets\n",
    "to be used in your optimization problem.**\n",
    "\n",
    "so $x \\in {0,1}$    binary domain\n",
    "\n",
    "General optimization form\n",
    "\n",
    "\n",
    "F is a matrix in which Quantities are given that must be transported from a factory to another factory every week\n",
    "\n",
    "L is a matrix in which Unit costs of transportation from a location to another location\n",
    "\n",
    "**from lawler's linearization**\n",
    "\n",
    "our objective is\n",
    "\n",
    "$minimize\\sum_{i=1}^{n}\\sum_{j=1}^{n}\\sum_{k=1}^{n}\\sum_{l=1}^{n}F[i,,j]*L[k,l]*X[i,k]*X[j*l]$\n",
    "\n",
    "after converting into linear programming the new eqation will be:\n",
    "\n",
    "$minimize\\sum_{i=1}^{n}\\sum_{j=1}^{n}\\sum_{k=1}^{n}\\sum_{l=1}^{n}F[i,,j]*L[k,l]*Y[i,k,j,l]$\n",
    "\n",
    "s.t.\n",
    "\n",
    "$Y[i,k,j,l]\\leq X[i,k]$\n",
    "\n",
    "$Y[i,k,j,l] \\leq X[j,l]$\n",
    "\n",
    "sum of the two equation will be\n",
    "\n",
    "$2*Y[i,k,j,l]-X[i,k]-X[j,l] \\leq 0$\n",
    "\n",
    "constraint will be\n",
    "\n",
    "s.t.\n",
    "\n",
    "$2*Y[i,k,j,l]-X[i,k]-X[j,l] \\leq 0$  for $i,j,k,l \\in {1,2,.....n}$       **(no of constraint will be $ n^4)$**\n",
    "\n",
    "$\\sum_{i=1}^{i=n}X[i,j]= 1$ (total factory at jth location which is given equal to 1) $ \\\\  $ for $j \\in {1,2,.....n}$ **(no of constraint will be $ n)$**\n",
    "\n",
    "$\\sum_{j=1}^{j=n}X[i,j]= 1$ (the ith factory at all location which is given equal to 1) $ \\\\  $ for $i \\in {1,2,,.....n}$**(no of constraint will be $ n)$**\n",
    "\n",
    "$\\sum_{i=1}^{n}\\sum_{j=1}^{n}\\sum_{k=1}^{n}\\sum_{l=1}^{n}Y[i,k,j,l]=n^2$ **(no of constraint will be $ 1)$**\n",
    "\n",
    "$X[i,j]\\in$ {0,1} $ \\ \\ i,j,k,l \\in {1,2,.....n}$\n"
   ]
  },
  {
   "cell_type": "markdown",
   "metadata": {
    "id": "kcHH5vNYiwkI"
   },
   "source": [
    "**2. [R] If there are n factories and n locations, how many variables and constraints are there in\n",
    "your model?**\n",
    "\n",
    "no of variables is \n",
    "\n",
    ">>$ n^4+n^2$\n",
    "\n",
    "no of constraint is \n",
    "\n",
    " >>$ n^4+2*n+1$"
   ]
  },
  {
   "cell_type": "code",
   "execution_count": null,
   "metadata": {
    "colab": {
     "base_uri": "https://localhost:8080/",
     "height": 300
    },
    "id": "Wv69OMk9bFQG",
    "outputId": "770f5448-a291-4775-ea85-94a8effaad9a"
   },
   "outputs": [
    {
     "data": {
      "text/html": [
       "\n",
       "  <div id=\"df-b0b6701c-ea51-4fb1-befe-ada7cabd579f\">\n",
       "    <div class=\"colab-df-container\">\n",
       "      <div>\n",
       "<style scoped>\n",
       "    .dataframe tbody tr th:only-of-type {\n",
       "        vertical-align: middle;\n",
       "    }\n",
       "\n",
       "    .dataframe tbody tr th {\n",
       "        vertical-align: top;\n",
       "    }\n",
       "\n",
       "    .dataframe thead th {\n",
       "        text-align: right;\n",
       "    }\n",
       "</style>\n",
       "<table border=\"1\" class=\"dataframe\">\n",
       "  <thead>\n",
       "    <tr style=\"text-align: right;\">\n",
       "      <th></th>\n",
       "      <th>factory</th>\n",
       "      <th>1</th>\n",
       "      <th>2</th>\n",
       "      <th>3</th>\n",
       "      <th>4</th>\n",
       "      <th>5</th>\n",
       "      <th>6</th>\n",
       "      <th>7</th>\n",
       "      <th>8</th>\n",
       "    </tr>\n",
       "  </thead>\n",
       "  <tbody>\n",
       "    <tr>\n",
       "      <th>0</th>\n",
       "      <td>1</td>\n",
       "      <td>0</td>\n",
       "      <td>18</td>\n",
       "      <td>22</td>\n",
       "      <td>19</td>\n",
       "      <td>23</td>\n",
       "      <td>20</td>\n",
       "      <td>18</td>\n",
       "      <td>19</td>\n",
       "    </tr>\n",
       "    <tr>\n",
       "      <th>1</th>\n",
       "      <td>2</td>\n",
       "      <td>21</td>\n",
       "      <td>0</td>\n",
       "      <td>20</td>\n",
       "      <td>0</td>\n",
       "      <td>19</td>\n",
       "      <td>0</td>\n",
       "      <td>22</td>\n",
       "      <td>20</td>\n",
       "    </tr>\n",
       "    <tr>\n",
       "      <th>2</th>\n",
       "      <td>3</td>\n",
       "      <td>22</td>\n",
       "      <td>23</td>\n",
       "      <td>0</td>\n",
       "      <td>0</td>\n",
       "      <td>0</td>\n",
       "      <td>17</td>\n",
       "      <td>16</td>\n",
       "      <td>24</td>\n",
       "    </tr>\n",
       "    <tr>\n",
       "      <th>3</th>\n",
       "      <td>4</td>\n",
       "      <td>17</td>\n",
       "      <td>25</td>\n",
       "      <td>0</td>\n",
       "      <td>0</td>\n",
       "      <td>21</td>\n",
       "      <td>22</td>\n",
       "      <td>20</td>\n",
       "      <td>17</td>\n",
       "    </tr>\n",
       "    <tr>\n",
       "      <th>4</th>\n",
       "      <td>5</td>\n",
       "      <td>12</td>\n",
       "      <td>19</td>\n",
       "      <td>18</td>\n",
       "      <td>19</td>\n",
       "      <td>0</td>\n",
       "      <td>21</td>\n",
       "      <td>21</td>\n",
       "      <td>23</td>\n",
       "    </tr>\n",
       "    <tr>\n",
       "      <th>5</th>\n",
       "      <td>6</td>\n",
       "      <td>20</td>\n",
       "      <td>0</td>\n",
       "      <td>0</td>\n",
       "      <td>17</td>\n",
       "      <td>21</td>\n",
       "      <td>0</td>\n",
       "      <td>20</td>\n",
       "      <td>0</td>\n",
       "    </tr>\n",
       "    <tr>\n",
       "      <th>6</th>\n",
       "      <td>7</td>\n",
       "      <td>22</td>\n",
       "      <td>24</td>\n",
       "      <td>28</td>\n",
       "      <td>16</td>\n",
       "      <td>23</td>\n",
       "      <td>0</td>\n",
       "      <td>0</td>\n",
       "      <td>19</td>\n",
       "    </tr>\n",
       "    <tr>\n",
       "      <th>7</th>\n",
       "      <td>8</td>\n",
       "      <td>23</td>\n",
       "      <td>29</td>\n",
       "      <td>20</td>\n",
       "      <td>17</td>\n",
       "      <td>24</td>\n",
       "      <td>24</td>\n",
       "      <td>23</td>\n",
       "      <td>0</td>\n",
       "    </tr>\n",
       "  </tbody>\n",
       "</table>\n",
       "</div>\n",
       "      <button class=\"colab-df-convert\" onclick=\"convertToInteractive('df-b0b6701c-ea51-4fb1-befe-ada7cabd579f')\"\n",
       "              title=\"Convert this dataframe to an interactive table.\"\n",
       "              style=\"display:none;\">\n",
       "        \n",
       "  <svg xmlns=\"http://www.w3.org/2000/svg\" height=\"24px\"viewBox=\"0 0 24 24\"\n",
       "       width=\"24px\">\n",
       "    <path d=\"M0 0h24v24H0V0z\" fill=\"none\"/>\n",
       "    <path d=\"M18.56 5.44l.94 2.06.94-2.06 2.06-.94-2.06-.94-.94-2.06-.94 2.06-2.06.94zm-11 1L8.5 8.5l.94-2.06 2.06-.94-2.06-.94L8.5 2.5l-.94 2.06-2.06.94zm10 10l.94 2.06.94-2.06 2.06-.94-2.06-.94-.94-2.06-.94 2.06-2.06.94z\"/><path d=\"M17.41 7.96l-1.37-1.37c-.4-.4-.92-.59-1.43-.59-.52 0-1.04.2-1.43.59L10.3 9.45l-7.72 7.72c-.78.78-.78 2.05 0 2.83L4 21.41c.39.39.9.59 1.41.59.51 0 1.02-.2 1.41-.59l7.78-7.78 2.81-2.81c.8-.78.8-2.07 0-2.86zM5.41 20L4 18.59l7.72-7.72 1.47 1.35L5.41 20z\"/>\n",
       "  </svg>\n",
       "      </button>\n",
       "      \n",
       "  <style>\n",
       "    .colab-df-container {\n",
       "      display:flex;\n",
       "      flex-wrap:wrap;\n",
       "      gap: 12px;\n",
       "    }\n",
       "\n",
       "    .colab-df-convert {\n",
       "      background-color: #E8F0FE;\n",
       "      border: none;\n",
       "      border-radius: 50%;\n",
       "      cursor: pointer;\n",
       "      display: none;\n",
       "      fill: #1967D2;\n",
       "      height: 32px;\n",
       "      padding: 0 0 0 0;\n",
       "      width: 32px;\n",
       "    }\n",
       "\n",
       "    .colab-df-convert:hover {\n",
       "      background-color: #E2EBFA;\n",
       "      box-shadow: 0px 1px 2px rgba(60, 64, 67, 0.3), 0px 1px 3px 1px rgba(60, 64, 67, 0.15);\n",
       "      fill: #174EA6;\n",
       "    }\n",
       "\n",
       "    [theme=dark] .colab-df-convert {\n",
       "      background-color: #3B4455;\n",
       "      fill: #D2E3FC;\n",
       "    }\n",
       "\n",
       "    [theme=dark] .colab-df-convert:hover {\n",
       "      background-color: #434B5C;\n",
       "      box-shadow: 0px 1px 3px 1px rgba(0, 0, 0, 0.15);\n",
       "      filter: drop-shadow(0px 1px 2px rgba(0, 0, 0, 0.3));\n",
       "      fill: #FFFFFF;\n",
       "    }\n",
       "  </style>\n",
       "\n",
       "      <script>\n",
       "        const buttonEl =\n",
       "          document.querySelector('#df-b0b6701c-ea51-4fb1-befe-ada7cabd579f button.colab-df-convert');\n",
       "        buttonEl.style.display =\n",
       "          google.colab.kernel.accessAllowed ? 'block' : 'none';\n",
       "\n",
       "        async function convertToInteractive(key) {\n",
       "          const element = document.querySelector('#df-b0b6701c-ea51-4fb1-befe-ada7cabd579f');\n",
       "          const dataTable =\n",
       "            await google.colab.kernel.invokeFunction('convertToInteractive',\n",
       "                                                     [key], {});\n",
       "          if (!dataTable) return;\n",
       "\n",
       "          const docLinkHtml = 'Like what you see? Visit the ' +\n",
       "            '<a target=\"_blank\" href=https://colab.research.google.com/notebooks/data_table.ipynb>data table notebook</a>'\n",
       "            + ' to learn more about interactive tables.';\n",
       "          element.innerHTML = '';\n",
       "          dataTable['output_type'] = 'display_data';\n",
       "          await google.colab.output.renderOutput(dataTable, element);\n",
       "          const docLink = document.createElement('div');\n",
       "          docLink.innerHTML = docLinkHtml;\n",
       "          element.appendChild(docLink);\n",
       "        }\n",
       "      </script>\n",
       "    </div>\n",
       "  </div>\n",
       "  "
      ],
      "text/plain": [
       "   factory   1   2   3   4   5   6   7   8\n",
       "0        1   0  18  22  19  23  20  18  19\n",
       "1        2  21   0  20   0  19   0  22  20\n",
       "2        3  22  23   0   0   0  17  16  24\n",
       "3        4  17  25   0   0  21  22  20  17\n",
       "4        5  12  19  18  19   0  21  21  23\n",
       "5        6  20   0   0  17  21   0  20   0\n",
       "6        7  22  24  28  16  23   0   0  19\n",
       "7        8  23  29  20  17  24  24  23   0"
      ]
     },
     "execution_count": 5,
     "metadata": {},
     "output_type": "execute_result"
    }
   ],
   "source": [
    "quan_csvfile = pd.read_csv('lab7_ex1_q.csv')\n",
    "quan_csvfile.rename(columns={'location':'factory'},inplace=True)\n",
    "\n",
    "quan_csvfile"
   ]
  },
  {
   "cell_type": "code",
   "execution_count": null,
   "metadata": {
    "id": "LTA1TCWigJjk"
   },
   "outputs": [],
   "source": [
    "row_index_quan=range(8)\n",
    "column_index_quan=range(8)"
   ]
  },
  {
   "cell_type": "code",
   "execution_count": null,
   "metadata": {
    "id": "aZm9_prdbS6F"
   },
   "outputs": [],
   "source": [
    "cost_csvfile = pd.read_csv('lab7_ex1_c.csv')\n"
   ]
  },
  {
   "cell_type": "code",
   "execution_count": null,
   "metadata": {
    "colab": {
     "base_uri": "https://localhost:8080/",
     "height": 300
    },
    "id": "ylszkTOnfJPl",
    "outputId": "1562ce14-be8a-45ad-95c0-d08d6e6fbb19"
   },
   "outputs": [
    {
     "data": {
      "text/html": [
       "\n",
       "  <div id=\"df-e4ee7d26-bab1-4f1b-90d5-0c73b0a457f4\">\n",
       "    <div class=\"colab-df-container\">\n",
       "      <div>\n",
       "<style scoped>\n",
       "    .dataframe tbody tr th:only-of-type {\n",
       "        vertical-align: middle;\n",
       "    }\n",
       "\n",
       "    .dataframe tbody tr th {\n",
       "        vertical-align: top;\n",
       "    }\n",
       "\n",
       "    .dataframe thead th {\n",
       "        text-align: right;\n",
       "    }\n",
       "</style>\n",
       "<table border=\"1\" class=\"dataframe\">\n",
       "  <thead>\n",
       "    <tr style=\"text-align: right;\">\n",
       "      <th></th>\n",
       "      <th>location</th>\n",
       "      <th>1</th>\n",
       "      <th>2</th>\n",
       "      <th>3</th>\n",
       "      <th>4</th>\n",
       "      <th>5</th>\n",
       "      <th>6</th>\n",
       "      <th>7</th>\n",
       "      <th>8</th>\n",
       "    </tr>\n",
       "  </thead>\n",
       "  <tbody>\n",
       "    <tr>\n",
       "      <th>0</th>\n",
       "      <td>1</td>\n",
       "      <td>0</td>\n",
       "      <td>11</td>\n",
       "      <td>13</td>\n",
       "      <td>9</td>\n",
       "      <td>19</td>\n",
       "      <td>20</td>\n",
       "      <td>27</td>\n",
       "      <td>13</td>\n",
       "    </tr>\n",
       "    <tr>\n",
       "      <th>1</th>\n",
       "      <td>2</td>\n",
       "      <td>11</td>\n",
       "      <td>0</td>\n",
       "      <td>8</td>\n",
       "      <td>9</td>\n",
       "      <td>11</td>\n",
       "      <td>19</td>\n",
       "      <td>10</td>\n",
       "      <td>15</td>\n",
       "    </tr>\n",
       "    <tr>\n",
       "      <th>2</th>\n",
       "      <td>3</td>\n",
       "      <td>13</td>\n",
       "      <td>8</td>\n",
       "      <td>0</td>\n",
       "      <td>18</td>\n",
       "      <td>19</td>\n",
       "      <td>19</td>\n",
       "      <td>27</td>\n",
       "      <td>27</td>\n",
       "    </tr>\n",
       "    <tr>\n",
       "      <th>3</th>\n",
       "      <td>4</td>\n",
       "      <td>9</td>\n",
       "      <td>9</td>\n",
       "      <td>18</td>\n",
       "      <td>0</td>\n",
       "      <td>19</td>\n",
       "      <td>20</td>\n",
       "      <td>10</td>\n",
       "      <td>20</td>\n",
       "    </tr>\n",
       "    <tr>\n",
       "      <th>4</th>\n",
       "      <td>5</td>\n",
       "      <td>19</td>\n",
       "      <td>11</td>\n",
       "      <td>25</td>\n",
       "      <td>19</td>\n",
       "      <td>0</td>\n",
       "      <td>21</td>\n",
       "      <td>17</td>\n",
       "      <td>26</td>\n",
       "    </tr>\n",
       "    <tr>\n",
       "      <th>5</th>\n",
       "      <td>6</td>\n",
       "      <td>20</td>\n",
       "      <td>13</td>\n",
       "      <td>20</td>\n",
       "      <td>20</td>\n",
       "      <td>21</td>\n",
       "      <td>0</td>\n",
       "      <td>28</td>\n",
       "      <td>14</td>\n",
       "    </tr>\n",
       "    <tr>\n",
       "      <th>6</th>\n",
       "      <td>7</td>\n",
       "      <td>27</td>\n",
       "      <td>10</td>\n",
       "      <td>17</td>\n",
       "      <td>10</td>\n",
       "      <td>17</td>\n",
       "      <td>28</td>\n",
       "      <td>0</td>\n",
       "      <td>12</td>\n",
       "    </tr>\n",
       "    <tr>\n",
       "      <th>7</th>\n",
       "      <td>8</td>\n",
       "      <td>13</td>\n",
       "      <td>15</td>\n",
       "      <td>27</td>\n",
       "      <td>20</td>\n",
       "      <td>19</td>\n",
       "      <td>14</td>\n",
       "      <td>12</td>\n",
       "      <td>0</td>\n",
       "    </tr>\n",
       "  </tbody>\n",
       "</table>\n",
       "</div>\n",
       "      <button class=\"colab-df-convert\" onclick=\"convertToInteractive('df-e4ee7d26-bab1-4f1b-90d5-0c73b0a457f4')\"\n",
       "              title=\"Convert this dataframe to an interactive table.\"\n",
       "              style=\"display:none;\">\n",
       "        \n",
       "  <svg xmlns=\"http://www.w3.org/2000/svg\" height=\"24px\"viewBox=\"0 0 24 24\"\n",
       "       width=\"24px\">\n",
       "    <path d=\"M0 0h24v24H0V0z\" fill=\"none\"/>\n",
       "    <path d=\"M18.56 5.44l.94 2.06.94-2.06 2.06-.94-2.06-.94-.94-2.06-.94 2.06-2.06.94zm-11 1L8.5 8.5l.94-2.06 2.06-.94-2.06-.94L8.5 2.5l-.94 2.06-2.06.94zm10 10l.94 2.06.94-2.06 2.06-.94-2.06-.94-.94-2.06-.94 2.06-2.06.94z\"/><path d=\"M17.41 7.96l-1.37-1.37c-.4-.4-.92-.59-1.43-.59-.52 0-1.04.2-1.43.59L10.3 9.45l-7.72 7.72c-.78.78-.78 2.05 0 2.83L4 21.41c.39.39.9.59 1.41.59.51 0 1.02-.2 1.41-.59l7.78-7.78 2.81-2.81c.8-.78.8-2.07 0-2.86zM5.41 20L4 18.59l7.72-7.72 1.47 1.35L5.41 20z\"/>\n",
       "  </svg>\n",
       "      </button>\n",
       "      \n",
       "  <style>\n",
       "    .colab-df-container {\n",
       "      display:flex;\n",
       "      flex-wrap:wrap;\n",
       "      gap: 12px;\n",
       "    }\n",
       "\n",
       "    .colab-df-convert {\n",
       "      background-color: #E8F0FE;\n",
       "      border: none;\n",
       "      border-radius: 50%;\n",
       "      cursor: pointer;\n",
       "      display: none;\n",
       "      fill: #1967D2;\n",
       "      height: 32px;\n",
       "      padding: 0 0 0 0;\n",
       "      width: 32px;\n",
       "    }\n",
       "\n",
       "    .colab-df-convert:hover {\n",
       "      background-color: #E2EBFA;\n",
       "      box-shadow: 0px 1px 2px rgba(60, 64, 67, 0.3), 0px 1px 3px 1px rgba(60, 64, 67, 0.15);\n",
       "      fill: #174EA6;\n",
       "    }\n",
       "\n",
       "    [theme=dark] .colab-df-convert {\n",
       "      background-color: #3B4455;\n",
       "      fill: #D2E3FC;\n",
       "    }\n",
       "\n",
       "    [theme=dark] .colab-df-convert:hover {\n",
       "      background-color: #434B5C;\n",
       "      box-shadow: 0px 1px 3px 1px rgba(0, 0, 0, 0.15);\n",
       "      filter: drop-shadow(0px 1px 2px rgba(0, 0, 0, 0.3));\n",
       "      fill: #FFFFFF;\n",
       "    }\n",
       "  </style>\n",
       "\n",
       "      <script>\n",
       "        const buttonEl =\n",
       "          document.querySelector('#df-e4ee7d26-bab1-4f1b-90d5-0c73b0a457f4 button.colab-df-convert');\n",
       "        buttonEl.style.display =\n",
       "          google.colab.kernel.accessAllowed ? 'block' : 'none';\n",
       "\n",
       "        async function convertToInteractive(key) {\n",
       "          const element = document.querySelector('#df-e4ee7d26-bab1-4f1b-90d5-0c73b0a457f4');\n",
       "          const dataTable =\n",
       "            await google.colab.kernel.invokeFunction('convertToInteractive',\n",
       "                                                     [key], {});\n",
       "          if (!dataTable) return;\n",
       "\n",
       "          const docLinkHtml = 'Like what you see? Visit the ' +\n",
       "            '<a target=\"_blank\" href=https://colab.research.google.com/notebooks/data_table.ipynb>data table notebook</a>'\n",
       "            + ' to learn more about interactive tables.';\n",
       "          element.innerHTML = '';\n",
       "          dataTable['output_type'] = 'display_data';\n",
       "          await google.colab.output.renderOutput(dataTable, element);\n",
       "          const docLink = document.createElement('div');\n",
       "          docLink.innerHTML = docLinkHtml;\n",
       "          element.appendChild(docLink);\n",
       "        }\n",
       "      </script>\n",
       "    </div>\n",
       "  </div>\n",
       "  "
      ],
      "text/plain": [
       "   location   1   2   3   4   5   6   7   8\n",
       "0         1   0  11  13   9  19  20  27  13\n",
       "1         2  11   0   8   9  11  19  10  15\n",
       "2         3  13   8   0  18  19  19  27  27\n",
       "3         4   9   9  18   0  19  20  10  20\n",
       "4         5  19  11  25  19   0  21  17  26\n",
       "5         6  20  13  20  20  21   0  28  14\n",
       "6         7  27  10  17  10  17  28   0  12\n",
       "7         8  13  15  27  20  19  14  12   0"
      ]
     },
     "execution_count": 8,
     "metadata": {},
     "output_type": "execute_result"
    }
   ],
   "source": [
    "cost_csvfile.rename(columns={'cost':'location'},inplace=True)\n",
    "\n",
    "cost_csvfile"
   ]
  },
  {
   "cell_type": "code",
   "execution_count": null,
   "metadata": {
    "id": "oiP6vf-0gVKU"
   },
   "outputs": [],
   "source": [
    "row_index_cost=range(8)\n",
    "column_index_cost=range(8)"
   ]
  },
  {
   "cell_type": "code",
   "execution_count": null,
   "metadata": {
    "id": "aZLiXNENhkQc"
   },
   "outputs": [],
   "source": [
    "model_lab7_ex1=ConcreteModel()"
   ]
  },
  {
   "cell_type": "code",
   "execution_count": null,
   "metadata": {
    "id": "CVsEjcq1cqS-"
   },
   "outputs": [],
   "source": [
    "# create a model\n",
    "model_lab7_ex1.x_fl = Var(row_index_cost, column_index_cost, domain= Binary)\n",
    "model_lab7_ex1.y=Var(row_index_cost, column_index_cost,row_index_quan, column_index_quan,domain=Binary)"
   ]
  },
  {
   "cell_type": "code",
   "execution_count": null,
   "metadata": {
    "id": "Ohw2h1RFl8Tu"
   },
   "outputs": [],
   "source": []
  },
  {
   "cell_type": "code",
   "execution_count": null,
   "metadata": {
    "id": "3RjvvVYwlYNT"
   },
   "outputs": [],
   "source": [
    "model_lab7_ex1.objective=Objective(expr=sum(quan_csvfile.iloc[i,j+1]*cost_csvfile.iloc[k,l+1]*model_lab7_ex1.y[i,k,j,l] for i in row_index_quan for j in column_index_quan for k in row_index_cost for l in column_index_cost),sense=minimize)"
   ]
  },
  {
   "cell_type": "code",
   "execution_count": null,
   "metadata": {
    "id": "o8XV17FXiv4c"
   },
   "outputs": [],
   "source": [
    "model_lab7_ex1.constraints = ConstraintList()"
   ]
  },
  {
   "cell_type": "code",
   "execution_count": null,
   "metadata": {
    "id": "KVc2_am908Ym"
   },
   "outputs": [],
   "source": [
    "for i in range(8):\n",
    "  model_lab7_ex1.constraints.add(expr=sum(model_lab7_ex1.x_fl[i,j] for j in range(8)) == 1)\n",
    "\n",
    "for i in range(8):\n",
    "  model_lab7_ex1.constraints.add(expr=sum(model_lab7_ex1.x_fl[j,i] for j in range(8)) == 1)\n",
    "\n"
   ]
  },
  {
   "cell_type": "code",
   "execution_count": null,
   "metadata": {
    "colab": {
     "base_uri": "https://localhost:8080/"
    },
    "id": "XogBD3rFfz_P",
    "outputId": "526255b3-237d-4588-dc13-d546c53736ff"
   },
   "outputs": [
    {
     "data": {
      "text/plain": [
       "<pyomo.core.base.constraint._GeneralConstraintData at 0x7fbe4b9cabb0>"
      ]
     },
     "execution_count": 15,
     "metadata": {},
     "output_type": "execute_result"
    }
   ],
   "source": [
    "model_lab7_ex1.constraints.add(expr=sum(model_lab7_ex1.y[i,j,k,l] for i in row_index_quan for j in column_index_quan for k in row_index_cost for l in column_index_cost) == 64)"
   ]
  },
  {
   "cell_type": "code",
   "execution_count": null,
   "metadata": {
    "id": "JXQIr3Tqivst"
   },
   "outputs": [],
   "source": [
    "for i in row_index_quan:\n",
    "  for j in column_index_quan:\n",
    "    for k in row_index_cost:\n",
    "      for l in column_index_cost:\n",
    "         model_lab7_ex1.constraints.add(expr=2*model_lab7_ex1.y[i,k,j,l]-model_lab7_ex1.x_fl[i,k]-model_lab7_ex1.x_fl[j,l]<=0)\n",
    "       \n",
    "\n"
   ]
  },
  {
   "cell_type": "code",
   "execution_count": null,
   "metadata": {
    "colab": {
     "base_uri": "https://localhost:8080/"
    },
    "id": "rhSG6IRMfclR",
    "outputId": "167aac31-1151-4b4e-e5a2-37e4dc27d62d"
   },
   "outputs": [
    {
     "name": "stdout",
     "output_type": "stream",
     "text": [
      "Selecting previously unselected package coinor-libcoinutils3v5.\n",
      "(Reading database ... 159447 files and directories currently installed.)\n",
      "Preparing to unpack .../0-coinor-libcoinutils3v5_2.10.14+repack1-1_amd64.deb ...\n",
      "Unpacking coinor-libcoinutils3v5 (2.10.14+repack1-1) ...\n",
      "Selecting previously unselected package coinor-libosi1v5.\n",
      "Preparing to unpack .../1-coinor-libosi1v5_0.107.9+repack1-1_amd64.deb ...\n",
      "Unpacking coinor-libosi1v5 (0.107.9+repack1-1) ...\n",
      "Selecting previously unselected package coinor-libclp1.\n",
      "Preparing to unpack .../2-coinor-libclp1_1.16.11+repack1-1_amd64.deb ...\n",
      "Unpacking coinor-libclp1 (1.16.11+repack1-1) ...\n",
      "Selecting previously unselected package coinor-libcgl1.\n",
      "Preparing to unpack .../3-coinor-libcgl1_0.59.10+repack1-1_amd64.deb ...\n",
      "Unpacking coinor-libcgl1 (0.59.10+repack1-1) ...\n",
      "Selecting previously unselected package coinor-libcbc3.\n",
      "Preparing to unpack .../4-coinor-libcbc3_2.9.9+repack1-1_amd64.deb ...\n",
      "Unpacking coinor-libcbc3 (2.9.9+repack1-1) ...\n",
      "Selecting previously unselected package coinor-cbc.\n",
      "Preparing to unpack .../5-coinor-cbc_2.9.9+repack1-1_amd64.deb ...\n",
      "Unpacking coinor-cbc (2.9.9+repack1-1) ...\n",
      "Setting up coinor-libcoinutils3v5 (2.10.14+repack1-1) ...\n",
      "Setting up coinor-libosi1v5 (0.107.9+repack1-1) ...\n",
      "Setting up coinor-libclp1 (1.16.11+repack1-1) ...\n",
      "Setting up coinor-libcgl1 (0.59.10+repack1-1) ...\n",
      "Setting up coinor-libcbc3 (2.9.9+repack1-1) ...\n",
      "Setting up coinor-cbc (2.9.9+repack1-1) ...\n",
      "Processing triggers for man-db (2.8.3-2ubuntu0.1) ...\n",
      "Processing triggers for libc-bin (2.27-3ubuntu1.5) ...\n"
     ]
    }
   ],
   "source": [
    "!apt-get install -y -qq coinor-cbc"
   ]
  },
  {
   "cell_type": "code",
   "execution_count": null,
   "metadata": {
    "id": "Sq3CpPcCeIBC"
   },
   "outputs": [],
   "source": [
    "opt_cbc = SolverFactory('cbc')"
   ]
  },
  {
   "cell_type": "code",
   "execution_count": null,
   "metadata": {
    "colab": {
     "base_uri": "https://localhost:8080/"
    },
    "id": "ANOu9qtsMgJQ",
    "outputId": "c568e595-2fd1-42de-b7a0-7a5e8c792997"
   },
   "outputs": [
    {
     "name": "stdout",
     "output_type": "stream",
     "text": [
      "Solver status: ok\n",
      "Solver termination condition: optimal\n"
     ]
    }
   ],
   "source": [
    "result = opt_cbc.solve(model_lab7_ex1)\n",
    "print('Solver status:', result.solver.status)\n",
    "print('Solver termination condition:',result.solver.termination_condition)"
   ]
  },
  {
   "cell_type": "code",
   "execution_count": null,
   "metadata": {
    "colab": {
     "base_uri": "https://localhost:8080/"
    },
    "id": "CcGAEnrj4fhI",
    "outputId": "ee1784bd-d28a-4a24-f638-7acfba3cdb15"
   },
   "outputs": [
    {
     "name": "stdout",
     "output_type": "stream",
     "text": [
      "2987.6116490364075\n"
     ]
    }
   ],
   "source": [
    "print(result.solver.time )"
   ]
  },
  {
   "cell_type": "markdown",
   "metadata": {
    "id": "__6Ns_c4jq_n"
   },
   "source": [
    "**9. [R] Solve the problem and report which facility must be opened at each location**\n",
    "\n",
    "factory 1 at location 2\n",
    "\n",
    "factory 2 at location 8\n",
    "\n",
    "factory 3 at location 7\n",
    "\n",
    "factory 4 at location 6\n",
    "\n",
    "factory 5 at location 1\n",
    "\n",
    "factory 6 at location 3\n",
    "\n",
    "factory 7 at location 5\n",
    "\n",
    "factory 8 at location 4"
   ]
  },
  {
   "cell_type": "code",
   "execution_count": null,
   "metadata": {
    "colab": {
     "base_uri": "https://localhost:8080/"
    },
    "id": "S35ufNCi64SG",
    "outputId": "41bacf3f-52a0-4fae-a40d-a1dfe5d7f106"
   },
   "outputs": [
    {
     "name": "stdout",
     "output_type": "stream",
     "text": [
      "\n",
      "Objective =  14889.0\n",
      "factory 1 at location 2\n",
      "factory 2 at location 8\n",
      "factory 3 at location 7\n",
      "factory 4 at location 6\n",
      "factory 5 at location 1\n",
      "factory 6 at location 3\n",
      "factory 7 at location 5\n",
      "factory 8 at location 4\n"
     ]
    }
   ],
   "source": [
    "# display solution\n",
    "print('\\nObjective = ', model_lab7_ex1.objective())\n",
    "\n",
    "for i in row_index_cost:\n",
    "  for j in column_index_cost:\n",
    "    \n",
    "    if model_lab7_ex1.x_fl[i,j].value!=0:\n",
    "      print(f'factory {i+1} at location {j+1}')\n",
    "      \n"
   ]
  },
  {
   "cell_type": "markdown",
   "metadata": {
    "id": "5WBLJP_8kKIm"
   },
   "source": [
    "**change the integer variables in your model to continuous variables**\n"
   ]
  },
  {
   "cell_type": "code",
   "execution_count": null,
   "metadata": {
    "id": "oG5DsfTq3yzx"
   },
   "outputs": [],
   "source": [
    "# create a model\n",
    "model_lab7_ex1.X_fl = Var(row_index_cost, column_index_cost, domain= NonNegativeReals)\n",
    "model_lab7_ex1.Y=Var(row_index_cost, column_index_cost,row_index_quan, column_index_quan,domain=NonNegativeReals)"
   ]
  },
  {
   "cell_type": "code",
   "execution_count": null,
   "metadata": {
    "id": "Uy9dcXNF48qH"
   },
   "outputs": [],
   "source": [
    "model_lab7_ex1.objective.deactivate()"
   ]
  },
  {
   "cell_type": "code",
   "execution_count": null,
   "metadata": {
    "id": "ZXLBdei049N4"
   },
   "outputs": [],
   "source": [
    "#deactivate previous constraint\n",
    "for i in range(1,4114):\n",
    "  model_lab7_ex1.constraints[i].deactivate()"
   ]
  },
  {
   "cell_type": "code",
   "execution_count": null,
   "metadata": {
    "colab": {
     "base_uri": "https://localhost:8080/"
    },
    "id": "1Zds8XOV5hM4",
    "outputId": "5b7069f6-22c1-4311-8db2-f799ff760c38"
   },
   "outputs": [
    {
     "name": "stderr",
     "output_type": "stream",
     "text": [
      "WARNING:pyomo.core:Implicitly replacing the Component attribute objective (type=<class 'pyomo.core.base.objective.ScalarObjective'>) on block unknown with a new Component (type=<class 'pyomo.core.base.objective.ScalarObjective'>).\n",
      "This is usually indicative of a modelling error.\n",
      "To avoid this warning, use block.del_component() and block.add_component().\n"
     ]
    }
   ],
   "source": [
    "model_lab7_ex1.objective=Objective(expr=sum(quan_csvfile.iloc[i,j+1]*cost_csvfile.iloc[k,l+1]*model_lab7_ex1.Y[i,k,j,l] for i in row_index_quan for j in column_index_quan for k in row_index_cost for l in column_index_cost),sense=minimize)"
   ]
  },
  {
   "cell_type": "code",
   "execution_count": null,
   "metadata": {
    "id": "UowErLpS5uXv"
   },
   "outputs": [],
   "source": [
    "for i in range(8):\n",
    "  model_lab7_ex1.constraints.add(expr=sum(model_lab7_ex1.X_fl[i,j] for j in range(8)) == 1)\n",
    "\n",
    "for i in range(8):\n",
    "  model_lab7_ex1.constraints.add(expr=sum(model_lab7_ex1.X_fl[j,i] for j in range(8)) == 1)"
   ]
  },
  {
   "cell_type": "code",
   "execution_count": null,
   "metadata": {
    "colab": {
     "base_uri": "https://localhost:8080/"
    },
    "id": "8-Jmy72857FP",
    "outputId": "eb67b21e-d4b3-4654-981c-0ca010557031"
   },
   "outputs": [
    {
     "data": {
      "text/plain": [
       "<pyomo.core.base.constraint._GeneralConstraintData at 0x7fbe4b5a3050>"
      ]
     },
     "execution_count": 28,
     "metadata": {},
     "output_type": "execute_result"
    }
   ],
   "source": [
    "model_lab7_ex1.constraints.add(expr=sum(model_lab7_ex1.Y[i,j,k,l] for i in row_index_quan for j in column_index_quan for k in row_index_cost for l in column_index_cost) == 64)"
   ]
  },
  {
   "cell_type": "code",
   "execution_count": null,
   "metadata": {
    "id": "xXrHEJy76D3Y"
   },
   "outputs": [],
   "source": [
    "for i in row_index_quan:\n",
    "  for j in column_index_quan:\n",
    "    for k in row_index_cost:\n",
    "      for l in column_index_cost:\n",
    "         model_lab7_ex1.constraints.add(expr=2*model_lab7_ex1.Y[i,k,j,l]-model_lab7_ex1.X_fl[j,l]-model_lab7_ex1.X_fl[i,k]<=0)\n",
    "         \n",
    "       "
   ]
  },
  {
   "cell_type": "code",
   "execution_count": null,
   "metadata": {
    "id": "UeVZYbvBUwmF"
   },
   "outputs": [],
   "source": [
    "opt_cbc = SolverFactory('cbc')"
   ]
  },
  {
   "cell_type": "code",
   "execution_count": null,
   "metadata": {
    "colab": {
     "base_uri": "https://localhost:8080/"
    },
    "id": "AcKaQmL7UwmG",
    "outputId": "9f23ff0b-7f03-4dff-8845-dc48d836c6a7"
   },
   "outputs": [
    {
     "name": "stdout",
     "output_type": "stream",
     "text": [
      "Solver status: ok\n",
      "Solver termination condition: optimal\n"
     ]
    }
   ],
   "source": [
    "result = opt_cbc.solve(model_lab7_ex1)\n",
    "print('Solver status:', result.solver.status)\n",
    "print('Solver termination condition:',result.solver.termination_condition)"
   ]
  },
  {
   "cell_type": "markdown",
   "metadata": {
    "id": "Q1Dd2omIQVoS"
   },
   "source": [
    "**10. [R] Now change the integer variables in your model to continuous variables, and re-solve the\n",
    "problem. Report the solution (only the non-zero values of the solution).**\n",
    "\n",
    "x[0,1] = 1.0\n",
    "\n",
    "factory 1 at location 2 \n",
    "\n",
    "x[1,7] = 1.0\n",
    "\n",
    "factory 2 at location 8 \n",
    "\n",
    "x[2,6] = 1.0\n",
    "\n",
    "factory 3 at location 7 \n",
    "\n",
    "x[3,5] = 1.0\n",
    "\n",
    "factory 4 at location 6 \n",
    "\n",
    "x[4,0] = 1.0\n",
    "\n",
    "factory 5 at location 1 \n",
    "\n",
    "x[5,2] = 1.0\n",
    "\n",
    "factory 6 at location 3 \n",
    "\n",
    "x[6,4] = 1.0\n",
    "\n",
    "factory 7 at location 5 \n",
    "\n",
    "x[7,3] = 1.0\n",
    "\n",
    "factory 8 at location 4\n",
    "\n",
    "there are 64 Y variable which are non-zero \n"
   ]
  },
  {
   "cell_type": "code",
   "execution_count": null,
   "metadata": {
    "colab": {
     "base_uri": "https://localhost:8080/"
    },
    "id": "eNCYvoahZEZP",
    "outputId": "41bacf3f-52a0-4fae-a40d-a1dfe5d7f106"
   },
   "outputs": [
    {
     "name": "stdout",
     "output_type": "stream",
     "text": [
      "\n",
      "Objective =  14889.0\n",
      "factory 1 at location 2\n",
      "factory 2 at location 8\n",
      "factory 3 at location 7\n",
      "factory 4 at location 6\n",
      "factory 5 at location 1\n",
      "factory 6 at location 3\n",
      "factory 7 at location 5\n",
      "factory 8 at location 4\n"
     ]
    }
   ],
   "source": [
    "# display solution\n",
    "print('\\nObjective = ', model_lab7_ex1.objective())\n",
    "\n",
    "for i in range(8):\n",
    "  for j in range(8):\n",
    "    \n",
    "    if model_lab7_ex1.X_fl[i,j].value!=0:\n",
    "      \n",
    "      print(f'factory {i+1} at location {j+1}')\n",
    "      \n"
   ]
  },
  {
   "cell_type": "code",
   "execution_count": null,
   "metadata": {
    "id": "V8GhDEtsaNSU"
   },
   "outputs": [],
   "source": []
  },
  {
   "cell_type": "code",
   "execution_count": null,
   "metadata": {
    "colab": {
     "base_uri": "https://localhost:8080/"
    },
    "id": "RIoKliqiw20j",
    "outputId": "5dd105b9-0f3f-4ae8-e0e7-6ce60971fa82"
   },
   "outputs": [
    {
     "name": "stdout",
     "output_type": "stream",
     "text": [
      "y[0,1,0,1]\n",
      "y[0,1,1,7]\n",
      "y[0,1,2,6]\n",
      "y[0,1,3,5]\n",
      "y[0,1,4,0]\n",
      "y[0,1,5,2]\n",
      "y[0,1,6,4]\n",
      "y[0,1,7,3]\n",
      "y[1,7,0,1]\n",
      "y[1,7,1,7]\n",
      "y[1,7,2,6]\n",
      "y[1,7,3,5]\n",
      "y[1,7,4,0]\n",
      "y[1,7,5,2]\n",
      "y[1,7,6,4]\n",
      "y[1,7,7,3]\n",
      "y[2,6,0,1]\n",
      "y[2,6,1,7]\n",
      "y[2,6,2,6]\n",
      "y[2,6,3,5]\n",
      "y[2,6,4,0]\n",
      "y[2,6,5,2]\n",
      "y[2,6,6,4]\n",
      "y[2,6,7,3]\n",
      "y[3,5,0,1]\n",
      "y[3,5,1,7]\n",
      "y[3,5,2,6]\n",
      "y[3,5,3,5]\n",
      "y[3,5,4,0]\n",
      "y[3,5,5,2]\n",
      "y[3,5,6,4]\n",
      "y[3,5,7,3]\n",
      "y[4,0,0,1]\n",
      "y[4,0,1,7]\n",
      "y[4,0,2,6]\n",
      "y[4,0,3,5]\n",
      "y[4,0,4,0]\n",
      "y[4,0,5,2]\n",
      "y[4,0,6,4]\n",
      "y[4,0,7,3]\n",
      "y[5,2,0,1]\n",
      "y[5,2,1,7]\n",
      "y[5,2,2,6]\n",
      "y[5,2,3,5]\n",
      "y[5,2,4,0]\n",
      "y[5,2,5,2]\n",
      "y[5,2,6,4]\n",
      "y[5,2,7,3]\n",
      "y[6,4,0,1]\n",
      "y[6,4,1,7]\n",
      "y[6,4,2,6]\n",
      "y[6,4,3,5]\n",
      "y[6,4,4,0]\n",
      "y[6,4,5,2]\n",
      "y[6,4,6,4]\n",
      "y[6,4,7,3]\n",
      "y[7,3,0,1]\n",
      "y[7,3,1,7]\n",
      "y[7,3,2,6]\n",
      "y[7,3,3,5]\n",
      "y[7,3,4,0]\n",
      "y[7,3,5,2]\n",
      "y[7,3,6,4]\n",
      "y[7,3,7,3]\n",
      "64\n",
      "{1.0: 64}\n"
     ]
    }
   ],
   "source": [
    "z=0\n",
    "d={}\n",
    "for i in range(8):\n",
    "  for j in range(8):\n",
    "    for k in range(8):\n",
    "      for l in range(8):\n",
    "        if model_lab7_ex1.Y[i,j,k,l].value!=0:\n",
    "          if model_lab7_ex1.Y[i,j,k,l].value not in d:\n",
    "            d[model_lab7_ex1.Y[i,j,k,l].value]=1\n",
    "          else:\n",
    "            d[model_lab7_ex1.Y[i,j,k,l].value]+=1\n",
    "          z=z+1\n",
    "          print(f'y[{i},{j},{k},{l}]')\n",
    "print(z)\n",
    "print(d)"
   ]
  },
  {
   "cell_type": "markdown",
   "metadata": {
    "id": "8vzP4jvmMzjj"
   },
   "source": [
    "there are 64 Y and 8 X which have non-negative value"
   ]
  },
  {
   "cell_type": "markdown",
   "metadata": {
    "id": "GfYTQM-Q8SYB"
   },
   "source": [
    "**11. [R] Are the optimal costs for both problems same? Are the values of the variables still\n",
    "integer-valued? If yes, explain why.**\n",
    "\n",
    "the optimal solution are same \n",
    "\n",
    "Yes the value of the X variables are still integer-valued because even after making changes as we are assigning different factories to different locations as each factories could be located at one of the location hence we will still get integer valued variable"
   ]
  }
 ],
 "metadata": {
  "colab": {
   "collapsed_sections": [],
   "provenance": []
  },
  "kernelspec": {
   "display_name": "Python 3 (ipykernel)",
   "language": "python",
   "name": "python3"
  },
  "language_info": {
   "codemirror_mode": {
    "name": "ipython",
    "version": 3
   },
   "file_extension": ".py",
   "mimetype": "text/x-python",
   "name": "python",
   "nbconvert_exporter": "python",
   "pygments_lexer": "ipython3",
   "version": "3.9.12"
  }
 },
 "nbformat": 4,
 "nbformat_minor": 1
}
